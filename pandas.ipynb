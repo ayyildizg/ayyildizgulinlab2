{
 "cells": [
  {
   "cell_type": "markdown",
   "id": "64d44da9-558f-4634-9de8-de0f46f93cfe",
   "metadata": {},
   "source": [
    "## Часть 1: Введение в Pandas\n",
    "\n",
    "Pandas - это библиотека Python для работы с данными. Она предоставляет мощные инструменты для анализа и манипуляции данными.\n",
    "\n",
    "### Установка Pandas\n",
    "\n",
    "Для начала убедитесь, что у вас установлена библиотека Pandas. Если ее нет, установите ее с помощью команды:\n"
   ]
  },
  {
   "cell_type": "code",
   "execution_count": null,
   "id": "7484df51-b002-414c-ae42-75a2df57c78d",
   "metadata": {},
   "outputs": [
    {
     "ename": "",
     "evalue": "",
     "output_type": "error",
     "traceback": [
      "\u001b[1;31m'c:\\Users\\EmrahPC\\AppData\\Local\\Microsoft\\WindowsApps\\python3.8.exe' ile hücreleri çalıştırmak için ipykernel paketi gerekir.\n",
      "\u001b[1;31mRun the following command to install 'ipykernel' into the Python environment. \n",
      "\u001b[1;31mCommand: 'c:/Users/EmrahPC/AppData/Local/Microsoft/WindowsApps/python3.8.exe -m pip install ipykernel -U --user --force-reinstall'"
     ]
    }
   ],
   "source": [
    "%pip install pandas"
   ]
  },
  {
   "cell_type": "markdown",
   "id": "4b655e29-c3a5-4117-9860-2d6b9af62ac1",
   "metadata": {},
   "source": [
    "## Импорт библиотеки\n",
    "Давайте начнем с импорта библиотеки Pandas:"
   ]
  },
  {
   "cell_type": "code",
   "execution_count": null,
   "id": "bfc3346f-3843-4aff-aec0-54321b9774f0",
   "metadata": {
    "tags": []
   },
   "outputs": [
    {
     "ename": "",
     "evalue": "",
     "output_type": "error",
     "traceback": [
      "\u001b[1;31m'c:\\Users\\EmrahPC\\AppData\\Local\\Microsoft\\WindowsApps\\python3.8.exe' ile hücreleri çalıştırmak için ipykernel paketi gerekir.\n",
      "\u001b[1;31mRun the following command to install 'ipykernel' into the Python environment. \n",
      "\u001b[1;31mCommand: 'c:/Users/EmrahPC/AppData/Local/Microsoft/WindowsApps/python3.8.exe -m pip install ipykernel -U --user --force-reinstall'"
     ]
    }
   ],
   "source": [
    "import pandas as pd\n",
    "\n",
    "# Создание DataFrame\n",
    "df = pd.DataFrame({'Column1': [1, 2, 3], 'Column2': ['A', 'B', 'C']})\n",
    "\n",
    "# Вывод первых нескольких строк DataFrame\n",
    "print(df.head())"
   ]
  },
  {
   "cell_type": "markdown",
   "id": "ea8530e9-c179-48c1-8043-ff87f415ee67",
   "metadata": {},
   "source": [
    "## Часть 2: Работа с данными\n",
    "### Чтение данных\n",
    "Мы будем использовать датасет Titanic. Давайте прочитаем данные из CSV файла."
   ]
  },
  {
   "cell_type": "code",
   "execution_count": null,
   "id": "fa5deec6-c85e-4d88-89df-bea7d75fcbba",
   "metadata": {},
   "outputs": [
    {
     "ename": "",
     "evalue": "",
     "output_type": "error",
     "traceback": [
      "\u001b[1;31m'c:\\Users\\EmrahPC\\AppData\\Local\\Microsoft\\WindowsApps\\python3.8.exe' ile hücreleri çalıştırmak için ipykernel paketi gerekir.\n",
      "\u001b[1;31mRun the following command to install 'ipykernel' into the Python environment. \n",
      "\u001b[1;31mCommand: 'c:/Users/EmrahPC/AppData/Local/Microsoft/WindowsApps/python3.8.exe -m pip install ipykernel -U --user --force-reinstall'"
     ]
    }
   ],
   "source": [
    "# Чтение данных из файла 'titanic.csv'\n",
    "df = pd.read_csv('titanic.csv')\n",
    "\n",
    "# Вывод первых нескольких строк DataFrame\n",
    "print(\"Первые 5 строк данных:\")\n",
    "print(df.head())"
   ]
  },
  {
   "cell_type": "markdown",
   "id": "07dfd488-4960-495e-80d8-9cf5903449b6",
   "metadata": {},
   "source": [
    "### Предпросмотр данных\n",
    "Для первого ознакомления с данными давайте выведем первые несколько строк."
   ]
  },
  {
   "cell_type": "markdown",
   "id": "b7ba5f57-07e1-4c0f-9b55-9d78638ee2cc",
   "metadata": {},
   "source": [
    "### Информация о данных\n",
    "Чтобы получить общую информацию о данных, воспользуйтесь методом .info()."
   ]
  },
  {
   "cell_type": "code",
   "execution_count": null,
   "id": "43650b4f-f3e7-4480-b874-b5552f564383",
   "metadata": {},
   "outputs": [
    {
     "ename": "",
     "evalue": "",
     "output_type": "error",
     "traceback": [
      "\u001b[1;31m'c:\\Users\\EmrahPC\\AppData\\Local\\Microsoft\\WindowsApps\\python3.8.exe' ile hücreleri çalıştırmak için ipykernel paketi gerekir.\n",
      "\u001b[1;31mRun the following command to install 'ipykernel' into the Python environment. \n",
      "\u001b[1;31mCommand: 'c:/Users/EmrahPC/AppData/Local/Microsoft/WindowsApps/python3.8.exe -m pip install ipykernel -U --user --force-reinstall'"
     ]
    }
   ],
   "source": [
    "# Информация о данных\n",
    "print(\"\\nИнформация о данных:\")\n",
    "print(df.info())"
   ]
  },
  {
   "cell_type": "markdown",
   "id": "a6857118-a82e-4586-a933-4eb0df9cb74e",
   "metadata": {},
   "source": [
    "### Работа с NaN\n",
    "Часто данные содержат пропущенные значения, которые представляются как NaN (Not a Number). Pandas предоставляет удобные методы для работы с ними.\n",
    "\n",
    "Проверка на наличие NaN. Методы fillna и dropna возвращают новые Dataframe, проверьте нет ли в них NaN"
   ]
  },
  {
   "cell_type": "code",
   "execution_count": null,
   "id": "f7910fde-24f7-4cf8-991d-01f08bc45b63",
   "metadata": {
    "tags": []
   },
   "outputs": [
    {
     "ename": "",
     "evalue": "",
     "output_type": "error",
     "traceback": [
      "\u001b[1;31m'c:\\Users\\EmrahPC\\AppData\\Local\\Microsoft\\WindowsApps\\python3.8.exe' ile hücreleri çalıştırmak için ipykernel paketi gerekir.\n",
      "\u001b[1;31mRun the following command to install 'ipykernel' into the Python environment. \n",
      "\u001b[1;31mCommand: 'c:/Users/EmrahPC/AppData/Local/Microsoft/WindowsApps/python3.8.exe -m pip install ipykernel -U --user --force-reinstall'"
     ]
    }
   ],
   "source": [
    "# Проверка на наличие NaN в DataFrame\n",
    "print(\"\\nПроверка на наличие NaN в данных:\")\n",
    "print(df.isna().any())"
   ]
  },
  {
   "cell_type": "markdown",
   "id": "1dadeaf7-e214-4552-b054-8e4a03714f72",
   "metadata": {},
   "source": [
    "Заполнение NaN"
   ]
  },
  {
   "cell_type": "code",
   "execution_count": null,
   "id": "7d901187-75a9-497e-8774-6e0dde584197",
   "metadata": {},
   "outputs": [
    {
     "ename": "",
     "evalue": "",
     "output_type": "error",
     "traceback": [
      "\u001b[1;31m'c:\\Users\\EmrahPC\\AppData\\Local\\Microsoft\\WindowsApps\\python3.8.exe' ile hücreleri çalıştırmak için ipykernel paketi gerekir.\n",
      "\u001b[1;31mRun the following command to install 'ipykernel' into the Python environment. \n",
      "\u001b[1;31mCommand: 'c:/Users/EmrahPC/AppData/Local/Microsoft/WindowsApps/python3.8.exe -m pip install ipykernel -U --user --force-reinstall'"
     ]
    }
   ],
   "source": [
    "# Заполнение NaN определенным значением (например, нулем)\n",
    "df_filled = df.fillna(0)\n",
    "print(\"\\nDataFrame после заполнения NaN нулями:\")\n",
    "print(df_filled.head())"
   ]
  },
  {
   "cell_type": "markdown",
   "id": "6f32fddb-ec60-456b-8958-5c81b0357d49",
   "metadata": {},
   "source": [
    "Удаление строк с NaN"
   ]
  },
  {
   "cell_type": "code",
   "execution_count": null,
   "id": "4d188deb-0818-4b01-b3a5-9d20d2166d10",
   "metadata": {
    "tags": []
   },
   "outputs": [
    {
     "ename": "",
     "evalue": "",
     "output_type": "error",
     "traceback": [
      "\u001b[1;31m'c:\\Users\\EmrahPC\\AppData\\Local\\Microsoft\\WindowsApps\\python3.8.exe' ile hücreleri çalıştırmak için ipykernel paketi gerekir.\n",
      "\u001b[1;31mRun the following command to install 'ipykernel' into the Python environment. \n",
      "\u001b[1;31mCommand: 'c:/Users/EmrahPC/AppData/Local/Microsoft/WindowsApps/python3.8.exe -m pip install ipykernel -U --user --force-reinstall'"
     ]
    }
   ],
   "source": [
    "# Удаление строк, содержащих NaN\n",
    "df_dropped = df.dropna()\n",
    "print(\"\\nDataFrame после удаления строк с NaN:\")\n",
    "print(df_dropped.head())"
   ]
  },
  {
   "cell_type": "markdown",
   "id": "7a4ff131-1593-4cd2-b2bc-e0ddb2442d3b",
   "metadata": {},
   "source": [
    "## Часть 3: Обработка DataFrame\n",
    "### Выбор данных\n",
    "Pandas позволяет выбирать данные по индексам, меткам столбцов и условиям."
   ]
  },
  {
   "cell_type": "code",
   "execution_count": null,
   "id": "d11f6114-ce4b-4e71-afec-adf1d8c1ec6e",
   "metadata": {
    "tags": []
   },
   "outputs": [
    {
     "ename": "",
     "evalue": "",
     "output_type": "error",
     "traceback": [
      "\u001b[1;31m'c:\\Users\\EmrahPC\\AppData\\Local\\Microsoft\\WindowsApps\\python3.8.exe' ile hücreleri çalıştırmak için ipykernel paketi gerekir.\n",
      "\u001b[1;31mRun the following command to install 'ipykernel' into the Python environment. \n",
      "\u001b[1;31mCommand: 'c:/Users/EmrahPC/AppData/Local/Microsoft/WindowsApps/python3.8.exe -m pip install ipykernel -U --user --force-reinstall'"
     ]
    }
   ],
   "source": [
    "# Выбор столбца по метке\n",
    "print(\"Выбор столбца 'Name':\")\n",
    "print(df['Name'].head())\n",
    "\n",
    "# Выбор нескольких столбцов\n",
    "print(\"\\nВыбор столбцов 'Name' и 'Age':\")\n",
    "print(df[['Name', 'Age']].head())\n",
    "\n",
    "# Выбор строк по индексу\n",
    "print(\"\\nВыбор строки с индексом 0:\")\n",
    "print(df.loc[0])\n",
    "\n",
    "# Выбор строк и столбцов по условию (мужчины старше 30)\n",
    "print(\"\\nВыбор мужчин старше 30 лет:\")\n",
    "print(df[(df['Sex'] == 'male') & (df['Age'] > 30)])"
   ]
  },
  {
   "cell_type": "markdown",
   "id": "f3102de8-d2fd-4593-bf26-721316ae51e9",
   "metadata": {},
   "source": [
    "### Сортировка данных\n",
    "Сортировка данных по значениям столбцов."
   ]
  },
  {
   "cell_type": "code",
   "execution_count": null,
   "id": "de5e850c-e920-4ae4-aadb-3f1953438b09",
   "metadata": {
    "tags": []
   },
   "outputs": [
    {
     "ename": "",
     "evalue": "",
     "output_type": "error",
     "traceback": [
      "\u001b[1;31m'c:\\Users\\EmrahPC\\AppData\\Local\\Microsoft\\WindowsApps\\python3.8.exe' ile hücreleri çalıştırmak için ipykernel paketi gerekir.\n",
      "\u001b[1;31mRun the following command to install 'ipykernel' into the Python environment. \n",
      "\u001b[1;31mCommand: 'c:/Users/EmrahPC/AppData/Local/Microsoft/WindowsApps/python3.8.exe -m pip install ipykernel -U --user --force-reinstall'"
     ]
    }
   ],
   "source": [
    "# Сортировка данных по столбцу 'Age' по возрастанию\n",
    "print(\"\\nСортировка данных по столбцу 'Age' по возрастанию:\")\n",
    "print(df.sort_values(by='Age').head())"
   ]
  },
  {
   "cell_type": "markdown",
   "id": "eab3cd85-5e96-4228-8834-9ef53b93689a",
   "metadata": {},
   "source": [
    "### Группировка данных\n",
    "Pandas также позволяет группировать данные и выполнять агрегирующие операции."
   ]
  },
  {
   "cell_type": "code",
   "execution_count": null,
   "id": "25ced901-0482-49a8-8c12-d192e84e3fb3",
   "metadata": {
    "tags": []
   },
   "outputs": [
    {
     "ename": "",
     "evalue": "",
     "output_type": "error",
     "traceback": [
      "\u001b[1;31m'c:\\Users\\EmrahPC\\AppData\\Local\\Microsoft\\WindowsApps\\python3.8.exe' ile hücreleri çalıştırmak için ipykernel paketi gerekir.\n",
      "\u001b[1;31mRun the following command to install 'ipykernel' into the Python environment. \n",
      "\u001b[1;31mCommand: 'c:/Users/EmrahPC/AppData/Local/Microsoft/WindowsApps/python3.8.exe -m pip install ipykernel -U --user --force-reinstall'"
     ]
    }
   ],
   "source": [
    "# Группировка данных и нахождение доли выживших по PClass\n",
    "pclass_survival_rate = df.groupby('Pclass')['Survived'].mean()\n",
    "print(\"\\nДоля выживших по PClass:\")\n",
    "print(pclass_survival_rate)"
   ]
  },
  {
   "cell_type": "markdown",
   "id": "d0355db7-7bf9-46d1-ad51-5f2eddc42501",
   "metadata": {},
   "source": [
    "## Часть 4: Задания для практики\n",
    "Прочитайте данные из файла 'titanic.csv'.\n",
    "Проверьте, есть ли пропущенные значения в данных и заполните их нулями.\n",
    "Выведите первые 10 строк данных.\n",
    "Выберите только те строки, где значение в столбце 'Age' больше 30.\n",
    "Отсортируйте данные по столбцу 'Fare' в порядке убывания.\n",
    "Сгруппируйте данные по столбцу 'Pclass' и вычислите средний возраст ('Age') для каждого класса."
   ]
  },
  {
   "cell_type": "code",
   "execution_count": null,
   "id": "a1b4deaa-cd06-41b3-8084-5c2d3a867811",
   "metadata": {},
   "outputs": [
    {
     "ename": "",
     "evalue": "",
     "output_type": "error",
     "traceback": [
      "\u001b[1;31m'c:\\Users\\EmrahPC\\AppData\\Local\\Microsoft\\WindowsApps\\python3.8.exe' ile hücreleri çalıştırmak için ipykernel paketi gerekir.\n",
      "\u001b[1;31mRun the following command to install 'ipykernel' into the Python environment. \n",
      "\u001b[1;31mCommand: 'c:/Users/EmrahPC/AppData/Local/Microsoft/WindowsApps/python3.8.exe -m pip install ipykernel -U --user --force-reinstall'"
     ]
    }
   ],
   "source": [
    "# Чтение данных из файла 'titanic.csv'\n",
    "df = pd.read_csv('titanic.csv')\n",
    "\n",
    "# Проверка на наличие NaN в DataFrame\n",
    "print(\"Проверка на наличие NaN в данных:\")\n",
    "print(df.isna().any())\n",
    "\n",
    "# Заполнение NaN нулями\n",
    "df_filled = df.fillna(0)\n",
    "\n",
    "# Вывод первых 10 строк данных\n",
    "print(\"\\nПервые 10 строк данных:\")\n",
    "print(df_filled.head(10))\n",
    "\n",
    "# Выбор только тех строк, где значение в столбце 'Age' больше 30\n",
    "selected_rows = df[df['Age'] > 30]\n",
    "print(\"\\nВыбор только тех строк, где возраст больше 30:\")\n",
    "print(selected_rows.head())\n",
    "\n",
    "# Сортировка данных по столбцу 'Fare' в порядке убывания\n",
    "sorted_data = df.sort_values(by='Fare', ascending=False)\n",
    "print(\"\\nСортировка данных по столбцу 'Fare' в порядке убывания:\")\n",
    "print(sorted_data.head())\n",
    "\n",
    "# Группировка данных по столбцу 'Pclass' и вычисление среднего возраста для каждого класса\n",
    "mean_age_by_pclass = df.groupby('Pclass')['Age'].mean()\n",
    "print(\"\\nСредний возраст для каждого класса (Pclass):\")\n",
    "print(mean_age_by_pclass)"
   ]
  }
 ],
 "metadata": {
  "kernelspec": {
   "display_name": "Python 3 (ipykernel)",
   "language": "python",
   "name": "python3"
  },
  "language_info": {
   "codemirror_mode": {
    "name": "ipython",
    "version": 3
   },
   "file_extension": ".py",
   "mimetype": "text/x-python",
   "name": "python",
   "nbconvert_exporter": "python",
   "pygments_lexer": "ipython3",
   "version": "3.8.10"
  }
 },
 "nbformat": 4,
 "nbformat_minor": 5
}
